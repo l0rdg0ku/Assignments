{
 "cells": [
  {
   "cell_type": "markdown",
   "metadata": {},
   "source": [
    "## Abhisek Joardar\n",
    "### Assignment 1\n",
    "### Email- abhisek27joardar@gmail.com"
   ]
  },
  {
   "cell_type": "code",
   "execution_count": 1,
   "metadata": {},
   "outputs": [],
   "source": [
    "def Assignment_1():\n",
    "        print(\"\\n Question 1:\")\n",
    "        def get_range():\n",
    "            rangelist = []\n",
    "            a=int(input(\"\\n Enter Start Range:\"))\n",
    "            b=int(input(\"\\n Enter End Range:\"))\n",
    "            for i in range(a,b):\n",
    "                if i % 7 == 0 and i % 5 != 0 :\n",
    "                    rangelist.append(i)\n",
    "            print(\"\\n The Result Range is: \", rangelist)\n",
    "            if input(\"\\n Test Another Range yes/no:\").lower() == \"yes\":\n",
    "                get_range()    \n",
    "            else: print('\\n Next Question')\n",
    "        get_range()\n",
    "        print(\"\\n Question 2:\")\n",
    "        def GetName():\n",
    "            first_name = input(\"\\n Enter first_name:\")\n",
    "            last_name = input(\"\\n Enter last_name:\")\n",
    "            full_name = first_name + \" \" + last_name\n",
    "            print(\"\\n Full_name is: \" + full_name)\n",
    "            print(\"\\n Inverted Name :\" + full_name[::-1])\n",
    "            if input(\"\\n Repeat yes/no:\").lower() == \"yes\":\n",
    "                GetName()    \n",
    "            else: print('\\n Next Question')\n",
    "        GetName()\n",
    "        print(\"\\n Question 3:\")  \n",
    "        def volume():\n",
    "            import math\n",
    "            d = input(\"Enter Diameter:\")\n",
    "            pi= math.pi\n",
    "            vol = 4/3*pi*((int(d))**3)\n",
    "            print(\"Volume of Sphere:\",vol)\n",
    "            if input(\"\\n Calculate another Volume yes/no:\").lower() == \"yes\":\n",
    "                volume()    \n",
    "            else: print('\\n Execution Finished')\n",
    "        volume()"
   ]
  },
  {
   "cell_type": "code",
   "execution_count": 2,
   "metadata": {},
   "outputs": [
    {
     "name": "stdout",
     "output_type": "stream",
     "text": [
      "\n",
      " Question 1:\n",
      "\n",
      " Enter Start Range:2000\n",
      "\n",
      " Enter End Range:3201\n",
      "\n",
      " The Result Range is:  [2002, 2009, 2016, 2023, 2037, 2044, 2051, 2058, 2072, 2079, 2086, 2093, 2107, 2114, 2121, 2128, 2142, 2149, 2156, 2163, 2177, 2184, 2191, 2198, 2212, 2219, 2226, 2233, 2247, 2254, 2261, 2268, 2282, 2289, 2296, 2303, 2317, 2324, 2331, 2338, 2352, 2359, 2366, 2373, 2387, 2394, 2401, 2408, 2422, 2429, 2436, 2443, 2457, 2464, 2471, 2478, 2492, 2499, 2506, 2513, 2527, 2534, 2541, 2548, 2562, 2569, 2576, 2583, 2597, 2604, 2611, 2618, 2632, 2639, 2646, 2653, 2667, 2674, 2681, 2688, 2702, 2709, 2716, 2723, 2737, 2744, 2751, 2758, 2772, 2779, 2786, 2793, 2807, 2814, 2821, 2828, 2842, 2849, 2856, 2863, 2877, 2884, 2891, 2898, 2912, 2919, 2926, 2933, 2947, 2954, 2961, 2968, 2982, 2989, 2996, 3003, 3017, 3024, 3031, 3038, 3052, 3059, 3066, 3073, 3087, 3094, 3101, 3108, 3122, 3129, 3136, 3143, 3157, 3164, 3171, 3178, 3192, 3199]\n",
      "\n",
      " Test Another Range yes/no:no\n",
      "\n",
      " Next Question\n",
      "\n",
      " Question 2:\n",
      "\n",
      " Enter first_name:Tony\n",
      "\n",
      " Enter last_name:Stark\n",
      "\n",
      " Full_name is: Tony Stark\n",
      "\n",
      " Inverted Name :kratS ynoT\n",
      "\n",
      " Repeat yes/no:no\n",
      "\n",
      " Next Question\n",
      "\n",
      " Question 3:\n",
      "Enter Diameter:12\n",
      "Volume of Sphere: 7238.229473870882\n",
      "\n",
      " Calculate another Volume yes/no:no\n",
      "\n",
      " Execution Finished\n"
     ]
    }
   ],
   "source": [
    "Assignment_1()"
   ]
  }
 ],
 "metadata": {
  "kernelspec": {
   "display_name": "Python 3",
   "language": "python",
   "name": "python3"
  },
  "language_info": {
   "codemirror_mode": {
    "name": "ipython",
    "version": 3
   },
   "file_extension": ".py",
   "mimetype": "text/x-python",
   "name": "python",
   "nbconvert_exporter": "python",
   "pygments_lexer": "ipython3",
   "version": "3.8.3"
  }
 },
 "nbformat": 4,
 "nbformat_minor": 4
}
